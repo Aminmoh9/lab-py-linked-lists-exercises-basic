{
 "cells": [
  {
   "cell_type": "markdown",
   "metadata": {},
   "source": [
    "## LAB | PY Linked Lists Exercises (Basic)"
   ]
  },
  {
   "cell_type": "markdown",
   "metadata": {},
   "source": [
    "\n",
    "This exercise notebook will help you practice working with linked lists in Python. You will write programs to implement various linked list operations, enhancing your understanding of data structures.\n"
   ]
  },
  {
   "cell_type": "markdown",
   "metadata": {},
   "source": [
    "\n",
    "## Instructions\n"
   ]
  },
  {
   "cell_type": "markdown",
   "metadata": {},
   "source": [
    "\n",
    "- Complete each exercise by writing the appropriate Python code.\n",
    "- Test your code to ensure it behaves as expected.\n"
   ]
  },
  {
   "cell_type": "markdown",
   "metadata": {},
   "source": [
    "\n",
    "### Exercise 1: Create a Linked List\n"
   ]
  },
  {
   "cell_type": "markdown",
   "metadata": {},
   "source": [
    "\n",
    "Write a Python program to create a linked list and display its elements.\n",
    "\n",
    "---\n"
   ]
  },
  {
   "cell_type": "code",
   "execution_count": 1,
   "metadata": {},
   "outputs": [
    {
     "name": "stdout",
     "output_type": "stream",
     "text": [
      "10 -> 15 -> 20 -> None\n"
     ]
    }
   ],
   "source": [
    "# Write your code HERE\n",
    "class Node:\n",
    "    def __init__(self, data):\n",
    "        self.data=data\n",
    "        self.next=None\n",
    "    \n",
    "class LinkedList:\n",
    "    def __init__(self):\n",
    "        self.head= None\n",
    "    #Exercise 2\n",
    "    def append(self, data):\n",
    "        new_node=Node(data)\n",
    "        if not self.head:\n",
    "            self.head=new_node\n",
    "            return\n",
    "        \n",
    "        last_node= self.head\n",
    "        while last_node.next:\n",
    "            last_node=last_node.next\n",
    "        last_node.next=new_node\n",
    "        \n",
    "    #Exercise 3\n",
    "    def prepend(self, data):\n",
    "        new_node = Node(data)\n",
    "        new_node.next = self.head  \n",
    "        self.head = new_node  \n",
    "        \n",
    "   # Exercise 4: Insert a Node After a Given Node\n",
    "    def insert_after(self, prev_node_data, new_data):\n",
    "        current = self.head\n",
    "        while current:\n",
    "            if current.data == prev_node_data:  \n",
    "                new_node = Node(new_data)\n",
    "                new_node.next = current.next  \n",
    "                current.next = new_node  \n",
    "                return\n",
    "            current = current.next\n",
    "        print(f\"Node with data {prev_node_data} not found.\") \n",
    "\n",
    "    # Exercise 5: Delete a Node\n",
    "    def delete_node(self, key):\n",
    "        current = self.head\n",
    "        \n",
    "        # Case 1: The node to be deleted is the head node\n",
    "        if current and current.data == key:\n",
    "            self.head = current.next  \n",
    "            current = None\n",
    "            return\n",
    "        \n",
    "        # Case 2: The node to be deleted is somewhere else in the list\n",
    "        prev = None\n",
    "        while current and current.data != key:\n",
    "            prev = current\n",
    "            current = current.next\n",
    "        \n",
    "        # If the node was not found, return the original head\n",
    "        if current is None:\n",
    "            print(f\"Node with data {key} not found.\")\n",
    "            return\n",
    "        \n",
    "        # Unlink the node to delete it\n",
    "        prev.next = current.next\n",
    "        current = None\n",
    "\n",
    "    # Bonus Exercise 1: Reverse a Linked List\n",
    "    def reverse(self):\n",
    "        prev = None\n",
    "        current = self.head\n",
    "        while current:\n",
    "            next_node = current.next  \n",
    "            current.next = prev  \n",
    "            prev = current  \n",
    "            current = next_node \n",
    "        self.head = prev  \n",
    "    \n",
    "    # Bonus Exercise 2: Search for an Element\n",
    "    def search(self, key):\n",
    "        current = self.head\n",
    "        position = 0\n",
    "        while current:\n",
    "            if current.data == key:\n",
    "                return f\"Element {key} found at position {position}.\"\n",
    "            current = current.next\n",
    "            position += 1\n",
    "        return f\"Element {key} not found.\"\n",
    "    \n",
    "\n",
    "    # Display the Linked List\n",
    "    def display(self):\n",
    "        current=self.head\n",
    "        while current:\n",
    "            print(current.data, end= \" -> \")\n",
    "            current= current.next\n",
    "        print(\"None\")\n",
    "\n",
    "#Example\n",
    "     \n",
    "llist=LinkedList()\n",
    "\n",
    "#Append nodes to the linked list\n",
    "llist.append(10)\n",
    "llist.append(15)\n",
    "llist.append(20)\n",
    "\n",
    "#Display linked list\n",
    "llist.display()"
   ]
  },
  {
   "cell_type": "markdown",
   "metadata": {},
   "source": [
    "\n",
    "### Exercise 2: Append a Node\n",
    "\n",
    "Write a Python program to append a new node at the end of a linked list and display the updated list.\n",
    "\n",
    "---\n"
   ]
  },
  {
   "cell_type": "code",
   "execution_count": 2,
   "metadata": {},
   "outputs": [
    {
     "name": "stdout",
     "output_type": "stream",
     "text": [
      "10 -> 15 -> 20 -> 25 -> 30 -> 35 -> None\n"
     ]
    }
   ],
   "source": [
    "# Write your code HERE\n",
    "#Append nodes to the linked list\n",
    "llist.append(25)\n",
    "llist.append(30)\n",
    "llist.append(35)\n",
    "\n",
    "#Display linked list\n",
    "llist.display()"
   ]
  },
  {
   "cell_type": "markdown",
   "metadata": {},
   "source": [
    "\n",
    "### Exercise 3: Prepend a Node\n",
    "\n",
    "Write a Python program to prepend a new node at the beginning of a linked list and display the updated list.\n",
    "\n",
    "---\n"
   ]
  },
  {
   "cell_type": "code",
   "execution_count": 3,
   "metadata": {},
   "outputs": [
    {
     "name": "stdout",
     "output_type": "stream",
     "text": [
      "5 -> 10 -> 15 -> 20 -> 25 -> 30 -> 35 -> None\n"
     ]
    }
   ],
   "source": [
    "# Write your code HERE\n",
    "# Prepend a node\n",
    "llist.prepend(5)\n",
    "llist.display()"
   ]
  },
  {
   "cell_type": "markdown",
   "metadata": {},
   "source": [
    "\n",
    "### Exercise 4: Insert a Node After a Given Node\n",
    "\n",
    "Write a Python program that inserts a new node after a specified node in the linked list and displays the updated list.\n",
    "\n",
    "---\n"
   ]
  },
  {
   "cell_type": "code",
   "execution_count": 8,
   "metadata": {},
   "outputs": [
    {
     "name": "stdout",
     "output_type": "stream",
     "text": [
      "5 -> 10 -> 15 -> 20 -> 25 -> 30 -> 32 -> 35 -> None\n"
     ]
    }
   ],
   "source": [
    "# Write your code HERE\n",
    "# Insert after a given node\n",
    "llist.insert_after(30, 32)\n",
    "llist.display()"
   ]
  },
  {
   "cell_type": "markdown",
   "metadata": {},
   "source": [
    "\n",
    "### Exercise 5: Delete a Node\n",
    "\n",
    "Write a Python program to delete a specified node from the linked list and display the updated list.\n",
    "\n",
    "---\n"
   ]
  },
  {
   "cell_type": "code",
   "execution_count": 9,
   "metadata": {},
   "outputs": [
    {
     "name": "stdout",
     "output_type": "stream",
     "text": [
      "5 -> 10 -> 15 -> 20 -> 25 -> 32 -> 35 -> None\n"
     ]
    }
   ],
   "source": [
    "# Write your code HERE\n",
    "#Delete a node\n",
    "llist.delete_node(30)\n",
    "llist.display()"
   ]
  },
  {
   "cell_type": "markdown",
   "metadata": {},
   "source": [
    "\n",
    "## Bonus Exercises\n"
   ]
  },
  {
   "cell_type": "markdown",
   "metadata": {},
   "source": [
    "\n",
    "### Bonus Exercise 1: Reverse a Linked List\n",
    "\n",
    "Write a Python program that reverses the linked list and displays the reversed list.\n",
    "\n",
    "---\n"
   ]
  },
  {
   "cell_type": "code",
   "execution_count": 10,
   "metadata": {},
   "outputs": [
    {
     "name": "stdout",
     "output_type": "stream",
     "text": [
      "35 -> 32 -> 25 -> 20 -> 15 -> 10 -> 5 -> None\n"
     ]
    }
   ],
   "source": [
    "# Write your code HERE\n",
    "# Reverse the linked list\n",
    "llist.reverse()\n",
    "llist.display()\n"
   ]
  },
  {
   "cell_type": "markdown",
   "metadata": {},
   "source": [
    "\n",
    "### Bonus Exercise 2: Search for an Element\n",
    "\n",
    "Write a Python program that searches for an element in the linked list and returns its position if found.\n",
    "\n",
    "---\n"
   ]
  },
  {
   "cell_type": "code",
   "execution_count": 13,
   "metadata": {},
   "outputs": [
    {
     "data": {
      "text/plain": [
       "'Element 10 found at position 5.'"
      ]
     },
     "execution_count": 13,
     "metadata": {},
     "output_type": "execute_result"
    }
   ],
   "source": [
    "# Write your code HERE\n",
    "# Search for an element\n",
    "llist.search(10)"
   ]
  },
  {
   "cell_type": "markdown",
   "metadata": {},
   "source": [
    "\n",
    "## Exercise Completion\n"
   ]
  },
  {
   "cell_type": "markdown",
   "metadata": {},
   "source": [
    "\n",
    "Once you have completed all exercises:\n",
    "\n",
    "- Review your solutions.\n",
    "- Ensure your code is well-documented with comments explaining your logic.\n",
    "- Save your notebook for submission or further review.\n",
    "\n",
    "Happy coding! Enjoy practicing Linked Lists in Python!\n"
   ]
  }
 ],
 "metadata": {
  "kernelspec": {
   "display_name": "base",
   "language": "python",
   "name": "python3"
  },
  "language_info": {
   "codemirror_mode": {
    "name": "ipython",
    "version": 3
   },
   "file_extension": ".py",
   "mimetype": "text/x-python",
   "name": "python",
   "nbconvert_exporter": "python",
   "pygments_lexer": "ipython3",
   "version": "3.12.7"
  }
 },
 "nbformat": 4,
 "nbformat_minor": 2
}
